{
 "cells": [
  {
   "cell_type": "code",
   "execution_count": 176,
   "metadata": {},
   "outputs": [],
   "source": [
    "%matplotlib inline\n",
    "import gym\n",
    "import numpy as np\n",
    "import matplotlib.pyplot as plt"
   ]
  },
  {
   "cell_type": "markdown",
   "metadata": {},
   "source": [
    "# Q-Table Learning\n"
   ]
  },
  {
   "cell_type": "code",
   "execution_count": 178,
   "metadata": {},
   "outputs": [
    {
     "data": {
      "text/plain": [
       "{'render.modes': ['human', 'ansi']}"
      ]
     },
     "execution_count": 178,
     "metadata": {},
     "output_type": "execute_result"
    }
   ],
   "source": [
    "env = gym.make('FrozenLake-v0')\n",
    "env.metadata"
   ]
  },
  {
   "cell_type": "markdown",
   "metadata": {},
   "source": [
    "# Implement Q-Table learning algorithm¶"
   ]
  },
  {
   "cell_type": "code",
   "execution_count": 170,
   "metadata": {},
   "outputs": [],
   "source": [
    "num_episodes=2000\n",
    "lr=0.8\n",
    "R_list=[]\n",
    "y=0.95\n"
   ]
  },
  {
   "cell_type": "code",
   "execution_count": 93,
   "metadata": {},
   "outputs": [],
   "source": [
    "def get_value_table(Q_table):\n",
    "    val=[np.max(row) for row in Q_table]\n",
    "    return np.reshape(val,(4,4))"
   ]
  },
  {
   "cell_type": "code",
   "execution_count": 172,
   "metadata": {},
   "outputs": [
    {
     "name": "stdout",
     "output_type": "stream",
     "text": [
      "Episode number:0\n",
      "Episode number:100\n",
      "Episode number:200\n",
      "Episode number:300\n",
      "Episode number:400\n",
      "Episode number:500\n",
      "Episode number:600\n",
      "Episode number:700\n",
      "Episode number:800\n",
      "Episode number:900\n",
      "Episode number:1000\n",
      "Episode number:1100\n",
      "Episode number:1200\n",
      "Episode number:1300\n",
      "Episode number:1400\n",
      "Episode number:1500\n",
      "Episode number:1600\n",
      "Episode number:1700\n",
      "Episode number:1800\n",
      "Episode number:1900\n"
     ]
    }
   ],
   "source": [
    "Q=np.zeros((16,4))\n",
    "for ep_num in range(num_episodes):\n",
    "    if ep_num%100==0:\n",
    "        print(\"Episode number:{0}\".format(ep_num))\n",
    "    R_total=0\n",
    "    s=env.reset()\n",
    "    #env.render()\n",
    "    #print(get_value_table(Q))\n",
    "    #print(\"\\nStarting training\\n\")\n",
    "    d=False\n",
    "    step=1\n",
    "    while step<99 and d==False:\n",
    "        step=step+1\n",
    "        \n",
    "        #Determine action\n",
    "        a=np.argmax((Q[s,:])+ np.random.randn(1,env.action_space.n)*(1./(ep_num+1)))#Noise is added to encourage exploration\n",
    "        #print(\"a is {0}\".format(a))##Actions are mapped l,d,r,u->0,1,2,3\n",
    "        \n",
    "        #Take the action\n",
    "        s1,r,d,_=env.step(a)\n",
    "        #env.render()\n",
    "        #print(\"s1:{},d:{}\".format(s1,d))\n",
    "        R_total=R_total+r\n",
    "        \n",
    "        #Update Q-value at the state\n",
    "        Q[s,a]=lr*Q[s,a]+ (1-lr)* (1+y*np.argmax(Q[s1,a]))\n",
    "        s=s1\n",
    "        \n",
    "        #print(get_value_table(Q))\n",
    "    R_list.append(R_total)\n",
    "    #print((R_list,R_total))"
   ]
  },
  {
   "cell_type": "code",
   "execution_count": 173,
   "metadata": {
    "scrolled": true
   },
   "outputs": [
    {
     "name": "stdout",
     "output_type": "stream",
     "text": [
      "Score over time: 0.0175\n"
     ]
    }
   ],
   "source": [
    "print \"Score over time: \" +  str(sum(R_list)/num_episodes)"
   ]
  },
  {
   "cell_type": "markdown",
   "metadata": {},
   "source": [
    "# Plot "
   ]
  },
  {
   "cell_type": "code",
   "execution_count": 177,
   "metadata": {},
   "outputs": [
    {
     "data": {
      "text/plain": [
       "[<matplotlib.lines.Line2D at 0x7fe9f1ae4c90>]"
      ]
     },
     "execution_count": 177,
     "metadata": {},
     "output_type": "execute_result"
    },
    {
     "data": {
      "image/png": "[encoded data removed]",
      "text/plain": [
       "<matplotlib.figure.Figure at 0x7fe9f9b6b850>"
      ]
     },
     "metadata": {},
     "output_type": "display_data"
    }
   ],
   "source": [
    "plt.plot(R_list)\n"
   ]
  }
 ],
 "metadata": {
  "kernelspec": {
   "display_name": "Python 2",
   "language": "python",
   "name": "python2"
  },
  "language_info": {
   "codemirror_mode": {
    "name": "ipython",
    "version": 2
   },
   "file_extension": ".py",
   "mimetype": "text/x-python",
   "name": "python",
   "nbconvert_exporter": "python",
   "pygments_lexer": "ipython2",
   "version": "2.7.12"
  }
 },
 "nbformat": 4,
 "nbformat_minor": 2
}
